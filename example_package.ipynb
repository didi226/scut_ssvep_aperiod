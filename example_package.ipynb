{
 "cells": [
  {
   "cell_type": "code",
   "execution_count": null,
   "id": "initial_id",
   "metadata": {
    "collapsed": true
   },
   "outputs": [],
   "source": [
    "from scut_ssvep_aperiod.ssvep_aperid.ssvep_aperiod_lee import ssvep_classify\n",
    "form_path_lee = \"D:\\data\\ssvep_dataset\\MNE-lee2019-ssvep-data\\session1\\ssvep_lee_sub_info.xlsx\"\n",
    "ssvep_classify(form_path_lee, pro_ica = False, filter_para = None)\n",
    "ssvep_classify(form_path_lee, pro_ica = True, filter_para = None)\n",
    "ssvep_classify(form_path_lee, pro_ica = False, filter_para = [4,40])\n",
    "ssvep_classify(form_path_lee, pro_ica = True, filter_para = [4, 40])"
   ]
  },
  {
   "cell_type": "code",
   "execution_count": null,
   "outputs": [],
   "source": [
    "from moabb.datasets import Lee2019_SSVEP\n",
    "dataset = Lee2019_SSVEP(train_run = True, test_run = None, resting_state = False, sessions=(1,2))\n",
    "X, labels, meta = paradigm.get_data(dataset = dataset)"
   ],
   "metadata": {
    "collapsed": false,
    "is_executing": true
   },
   "id": "4fc502b74692c487"
  },
  {
   "cell_type": "code",
   "execution_count": null,
   "outputs": [],
   "source": [],
   "metadata": {
    "collapsed": false
   },
   "id": "6b7eb5cb2bbc0109"
  }
 ],
 "metadata": {
  "kernelspec": {
   "display_name": "Python 3",
   "language": "python",
   "name": "python3"
  },
  "language_info": {
   "codemirror_mode": {
    "name": "ipython",
    "version": 2
   },
   "file_extension": ".py",
   "mimetype": "text/x-python",
   "name": "python",
   "nbconvert_exporter": "python",
   "pygments_lexer": "ipython2",
   "version": "2.7.6"
  }
 },
 "nbformat": 4,
 "nbformat_minor": 5
}
