{
 "cells": [
  {
   "cell_type": "markdown",
   "id": "ba74955a-7044-4785-b498-98af99b690b4",
   "metadata": {},
   "source": [
    "# easy beginning"
   ]
  },
  {
   "cell_type": "markdown",
   "id": "de87f420-faa8-4a31-a403-7dae483d0030",
   "metadata": {},
   "source": [
    "## Import related packages"
   ]
  },
  {
   "cell_type": "code",
   "execution_count": 48,
   "id": "5249dc4a-0b8e-463d-a405-db1596c5ac11",
   "metadata": {},
   "outputs": [],
   "source": [
    "import warnings\n",
    "warnings.filterwarnings('ignore')\n",
    "from scuteegfe import Feature\n",
    "import pandas as pd\n",
    "import numpy as np\n",
    "import matplotlib.pyplot as plt\n",
    "import mne\n",
    "from scut_ssvep_aperiod import PSDA, CCACommon, FBCCA, TRCA, TDCA "
   ]
  },
  {
   "cell_type": "markdown",
   "id": "04bc8284-6389-4dbf-b84c-f787c0e7d82a",
   "metadata": {},
   "source": [
    "## SSVEP Measure\n",
    "We measure SSVEP by PSDA, CCACommon, FBCCA, TRCA, TDCA "
   ]
  },
  {
   "cell_type": "code",
   "execution_count": null,
   "id": "bbe6d5cd-c7e5-413d-ad54-b28010f7b43a",
   "metadata": {},
   "outputs": [],
   "source": [
    "ssvep_method = PSDA(datasetone.sample_rate_test, datasetone.window_time, datasetone.freqs, 3) \n",
    "predict_label,_,_ = ssvep_method.classify(test_data)\n",
    "\n",
    "ssvep_method = CCACommon(sfreq = datasetone.sample_rate_test, ws = datasetone.window_time,fres_list = datasetone.freqs, n_harmonics = 3)\n",
    "predict_label = ssvep_method.classify(test_data)\n",
    "\n",
    "ssvep_method = FBCCA(datasetone.sample_rate_test, datasetone.window_time, datasetone.freqs, 3)\n",
    "predict_label = ssvep_method.classify(test_data)\n",
    "\n",
    "ssvep_method = TRCA(datasetone.sample_rate_test, datasetone.window_time, datasetone.freqs)\n",
    "ssvep_method.train(train_data, train_label)\n",
    "predict_label = ssvep_method.classifier(test_data)\n",
    "\n",
    "ssvep_method = TDCA(datasetone.sample_rate_test ,4,datasetone.freqs)\n",
    "ssvep_method.train(train_data, train_label)\n",
    "predict_label = ssvep_method.classifier(test_data)"
   ]
  }
 ],
 "metadata": {
  "kernelspec": {
   "display_name": "py3.9",
   "language": "python",
   "name": "py3.9"
  },
  "language_info": {
   "codemirror_mode": {
    "name": "ipython",
    "version": 3
   },
   "file_extension": ".py",
   "mimetype": "text/x-python",
   "name": "python",
   "nbconvert_exporter": "python",
   "pygments_lexer": "ipython3",
   "version": "3.9.15"
  },
  "widgets": {
   "application/vnd.jupyter.widget-state+json": {
    "state": {},
    "version_major": 2,
    "version_minor": 0
   }
  }
 },
 "nbformat": 4,
 "nbformat_minor": 5
}
